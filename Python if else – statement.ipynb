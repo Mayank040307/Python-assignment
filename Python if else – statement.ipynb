{
 "cells": [
  {
   "cell_type": "markdown",
   "id": "8b7fe626-9036-4092-82f8-d3e2560af95e",
   "metadata": {},
   "source": [
    "if statement assignmet"
   ]
  },
  {
   "cell_type": "markdown",
   "id": "5b6e14c8-d3f6-4176-afaf-78fced422ccc",
   "metadata": {},
   "source": [
    "Question 1"
   ]
  },
  {
   "cell_type": "code",
   "execution_count": 2,
   "id": "f64a13f3-5cd0-4fda-9ebd-9f0e94d72e45",
   "metadata": {},
   "outputs": [
    {
     "name": "stdin",
     "output_type": "stream",
     "text": [
      "Enter the number of units used:  350\n"
     ]
    },
    {
     "name": "stdout",
     "output_type": "stream",
     "text": [
      "Total electricity bill is: Rs 2000\n"
     ]
    }
   ],
   "source": [
    "units = int(input(\"Enter the number of units used: \"))\n",
    "\n",
    "bill = 0\n",
    "\n",
    "if units > 100:\n",
    "    if units > 200:\n",
    "        bill = bill + (100 * 5) \n",
    "        bill = bill + ((units - 200) * 10)  \n",
    "    else:\n",
    "        bill = bill + ((units - 100) * 5)  \n",
    "if units <= 100:\n",
    "    bill = 0\n",
    "\n",
    "print(\"Total electricity bill is: Rs\", bill)"
   ]
  },
  {
   "cell_type": "markdown",
   "id": "8ad62bed-1287-43f2-a29d-1856109ea958",
   "metadata": {},
   "source": [
    "Question 2"
   ]
  },
  {
   "cell_type": "code",
   "execution_count": 5,
   "id": "7a25c252-8bb4-485b-8604-3dbd2d799724",
   "metadata": {},
   "outputs": [
    {
     "name": "stdin",
     "output_type": "stream",
     "text": [
      "Enter your percentage:  98\n"
     ]
    },
    {
     "name": "stdout",
     "output_type": "stream",
     "text": [
      "Grade: A\n"
     ]
    }
   ],
   "source": [
    "percentage = float(input(\"Enter your percentage: \"))\n",
    "\n",
    "if percentage > 90:\n",
    "    print(\"Grade: A\")\n",
    "elif percentage > 80 and percentage <= 90:\n",
    "    print(\"Grade: B\")\n",
    "elif percentage >= 60 and percentage <= 80:\n",
    "    print(\"Grade: C\")\n",
    "else:\n",
    "    print(\"Grade: D\")"
   ]
  },
  {
   "cell_type": "markdown",
   "id": "4db70992-8d42-4ea7-ba50-b58ab8ca0628",
   "metadata": {},
   "source": [
    "Question 3"
   ]
  },
  {
   "cell_type": "code",
   "execution_count": 7,
   "id": "23f21636-3280-496f-ba18-7a5cab5cf6d5",
   "metadata": {},
   "outputs": [
    {
     "name": "stdin",
     "output_type": "stream",
     "text": [
      "Enter age of person 1:  6\n",
      "Enter age of person 2:  9\n",
      "Enter age of person 3:  7\n",
      "Enter age of person 4:  4\n"
     ]
    },
    {
     "name": "stdout",
     "output_type": "stream",
     "text": [
      "The youngest age is: 4\n"
     ]
    }
   ],
   "source": [
    "age1 = int(input(\"Enter age of person 1: \"))\n",
    "age2 = int(input(\"Enter age of person 2: \"))\n",
    "age3 = int(input(\"Enter age of person 3: \"))\n",
    "age4 = int(input(\"Enter age of person 4: \"))\n",
    "\n",
    "youngest = age1\n",
    "\n",
    "if age2 < youngest:\n",
    "    youngest = age2\n",
    "if age3 < youngest:\n",
    "    youngest = age3\n",
    "if age4 < youngest:\n",
    "    youngest = age4\n",
    "    print(\"The youngest age is:\", youngest)\n"
   ]
  },
  {
   "cell_type": "markdown",
   "id": "54d03821-b8ed-4c92-9a1d-3e94716ca5d6",
   "metadata": {},
   "source": [
    "Question 4"
   ]
  },
  {
   "cell_type": "code",
   "execution_count": null,
   "id": "ca3c621c-8278-42ec-8ee2-25c51dac72b6",
   "metadata": {},
   "outputs": [],
   "source": [
    "salary = float(input(\"Enter your salary: \"))\n",
    "years = float(input(\"Enter your years of service: \"))\n",
    "\n",
    "if years > 10:\n",
    "    bonus = 0.10 * salary\n",
    "elif years >= 6 and years <= 10:\n",
    "    bonus = 0.08 * salary\n",
    "else:\n",
    "    bonus = 0.05 * salary\n",
    "\n",
    "print(\"Your bonus amount is: Rs\", bonus)"
   ]
  },
  {
   "cell_type": "markdown",
   "id": "6ed8e833-dc0d-446d-891c-c0c7525db27f",
   "metadata": {},
   "source": [
    "Question 5"
   ]
  },
  {
   "cell_type": "code",
   "execution_count": null,
   "id": "7d66fd3d-521a-466c-83fc-784b0f4d19a5",
   "metadata": {},
   "outputs": [],
   "source": [
    "a = int(input(\"Enter first number: \"))\n",
    "b = int(input(\"Enter second number: \"))\n",
    "c = int(input(\"Enter third number: \"))\n",
    "\n",
    "if (a > b and a < c) or (a > c and a < b):\n",
    "    second_largest = a\n",
    "elif (b > a and b < c) or (b > c and b < a):\n",
    "    second_largest = b\n",
    "else:\n",
    "    second_largest = c\n",
    "\n",
    "\n",
    "print(\"The second largest number is:\", second_largest)"
   ]
  },
  {
   "cell_type": "markdown",
   "id": "68bc057e-0a5f-46be-85f0-42272fa37880",
   "metadata": {},
   "source": [
    "Question 6"
   ]
  },
  {
   "cell_type": "code",
   "execution_count": null,
   "id": "328c9dc8-d70a-4f54-b0bc-49a9c0d2f4de",
   "metadata": {},
   "outputs": [],
   "source": [
    "marked_price = float(input(\"Enter the marked price: \"))\n",
    "\n",
    "# Calculate discount based on the criteria\n",
    "if marked_price > 10000:\n",
    "    discount = 0.20 * marked_price\n",
    "elif marked_price > 7000 and marked_price <= 10000:\n",
    "    discount = 0.15 * marked_price\n",
    "else:\n",
    "    discount = 0.10 * marked_price\n",
    "\n",
    "net_amount = marked_price - discount\n",
    "\n",
    "print(\"Discount: Rs\", discount)\n",
    "print(\"Net amount to pay: Rs\", net_amount)"
   ]
  },
  {
   "cell_type": "markdown",
   "id": "ee8435bd-522f-4edc-a245-60ed4a09d825",
   "metadata": {},
   "source": [
    "Question 7"
   ]
  },
  {
   "cell_type": "code",
   "execution_count": null,
   "id": "1d9946ee-7396-4423-916d-a5ed7c22a2cd",
   "metadata": {},
   "outputs": [],
   "source": [
    "english = int(input(\"Enter marks in English: \"))\n",
    "math = int(input(\"Enter marks in Math: \"))\n",
    "science = int(input(\"Enter marks in Science: \"))\n",
    "social = int(input(\"Enter marks in Social Studies: \"))\n",
    "\n",
    "# Check and display the stream based on the conditions\n",
    "if english > 80 and math > 80 and science > 80 and social > 80:\n",
    "    print(\"Stream Allotted: Science Stream\")\n",
    "elif english > 80 and math > 50 and science > 50:\n",
    "    print(\"Stream Allotted: Commerce Stream\")\n",
    "elif english > 80 and social > 80:\n",
    "    print(\"Stream Allotted: Humanities\")\n",
    "else:\n",
    "    print(\"No stream allotted based on given criteria.\")"
   ]
  },
  {
   "cell_type": "markdown",
   "id": "b6af3f08-563e-4511-b758-141ef90c1d5a",
   "metadata": {},
   "source": [
    "Question 8"
   ]
  },
  {
   "cell_type": "code",
   "execution_count": null,
   "id": "6ad29797-c13b-480e-a3ef-af86e4772839",
   "metadata": {},
   "outputs": [],
   "source": [
    "num = int(input(\"Enter a number: \"))\n",
    "\n",
    "if num % 5 == 0:\n",
    "    print(\"Hello\")\n",
    "else:\n",
    "    print(\"Bye\")"
   ]
  },
  {
   "cell_type": "markdown",
   "id": "56af1eb8-b543-49f7-8b5e-cf9cc6a98b48",
   "metadata": {},
   "source": [
    "Question 9"
   ]
  },
  {
   "cell_type": "code",
   "execution_count": null,
   "id": "68a1d40f-1ce0-4c76-9492-f55560860438",
   "metadata": {},
   "outputs": [],
   "source": [
    "num = int(input(\"Enter a number: \"))\n",
    "\n",
    "last_digit = num % 10\n",
    "\n",
    "if last_digit % 3 == 0:\n",
    "    print(\"The last digit is divisible by 3.\")\n",
    "else:\n",
    "    print(\"The last digit is not divisible by 3.\")"
   ]
  },
  {
   "cell_type": "markdown",
   "id": "fa03e74f-0e35-40a8-990d-57b9a12933f7",
   "metadata": {},
   "source": [
    "Question 10"
   ]
  },
  {
   "cell_type": "code",
   "execution_count": null,
   "id": "654e4eff-4939-4c16-af8c-c72469fc5523",
   "metadata": {},
   "outputs": [],
   "source": [
    "num = int(input(\"Enter a number: \"))\n",
    "\n",
    "if (num >= 100 and num <= 999) or (num <= -100 and num >= -999):\n",
    "    print(\"The number is a three-digit number.\")\n",
    "else:\n",
    "    print(\"The number is NOT a three-digit number.\")"
   ]
  }
 ],
 "metadata": {
  "kernelspec": {
   "display_name": "Python 3 (ipykernel)",
   "language": "python",
   "name": "python3"
  },
  "language_info": {
   "codemirror_mode": {
    "name": "ipython",
    "version": 3
   },
   "file_extension": ".py",
   "mimetype": "text/x-python",
   "name": "python",
   "nbconvert_exporter": "python",
   "pygments_lexer": "ipython3",
   "version": "3.13.5"
  }
 },
 "nbformat": 4,
 "nbformat_minor": 5
}
