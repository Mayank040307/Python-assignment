{
 "cells": [
  {
   "cell_type": "code",
   "execution_count": 2,
   "id": "e7cd8635-1dc8-448c-90c5-194507da6efc",
   "metadata": {},
   "outputs": [
    {
     "name": "stdin",
     "output_type": "stream",
     "text": [
      "Enter your address: ducat sector 16\n",
      "Enter your name: Mayank\n",
      "Enter position: professor\n",
      "Enter joining date: 15-08-2025\n",
      "Enter salary: 35000\n",
      "Enter your email: mayank@gmail.com\n",
      "Enter hr name: rohit sir\n"
     ]
    },
    {
     "name": "stdout",
     "output_type": "stream",
     "text": [
      "\n",
      "ducat sector 16\n",
      "Dear Mayank,\n",
      "\n",
      "Subject: Offer of Employment for the position of professor\n",
      "\n",
      "We are delighted to extend this formal offer of employment to you for the position of professor at our organization. Based on your qualifications and the skills you demonstrated during the recruitment process, we are confident that you will be a valuable addition to our team.\n",
      "\n",
      "As discussed, your expected date of joining is 15-08-2025. Your total compensation package will be 35000, which includes all salary components as per the company’s policy. Further details regarding your compensation will be provided in your employment contract.\n",
      "\n",
      "We expect you to bring your best efforts to help the company achieve its goals, and we are committed to supporting your professional growth during your time with us.\n",
      "\n",
      "Please confirm your acceptance of this offer by sending an email to mayank@gmail.com at your earliest convenience. Should you have any queries regarding this offer, feel free to reach out to us.\n",
      "\n",
      "We look forward to having you onboard and are excited about the great things we can accomplish together.\n",
      "\n",
      "Sincerely,\n",
      "\n",
      "rohit sir\n",
      "HR Manager\n",
      "\n"
     ]
    }
   ],
   "source": [
    "location=input(\"Enter your address:\")\n",
    "name=input(\"Enter your name:\")\n",
    "position=input(\"Enter position:\")\n",
    "joining_date=input(\"Enter joining date:\")\n",
    "salary=input(\"Enter salary:\")\n",
    "email=input(\"Enter your email:\")\n",
    "hr_name=input(\"Enter hr name:\")\n",
    " \n",
    "print(\"\"\"\n",
    "{0}\n",
    "Dear {1},\n",
    "\n",
    "Subject: Offer of Employment for the position of {2}\n",
    "\n",
    "We are delighted to extend this formal offer of employment to you for the position of {2} at our organization. Based on your qualifications and the skills you demonstrated during the recruitment process, we are confident that you will be a valuable addition to our team.\n",
    "\n",
    "As discussed, your expected date of joining is {3}. Your total compensation package will be {4}, which includes all salary components as per the company’s policy. Further details regarding your compensation will be provided in your employment contract.\n",
    "\n",
    "We expect you to bring your best efforts to help the company achieve its goals, and we are committed to supporting your professional growth during your time with us.\n",
    "\n",
    "Please confirm your acceptance of this offer by sending an email to {5} at your earliest convenience. Should you have any queries regarding this offer, feel free to reach out to us.\n",
    "\n",
    "We look forward to having you onboard and are excited about the great things we can accomplish together.\n",
    "\n",
    "Sincerely,\n",
    "\n",
    "{6}\n",
    "HR Manager\n",
    "\"\"\".format(location,name,position,joining_date,salary,email,hr_name))"
   ]
  }
 ],
 "metadata": {
  "kernelspec": {
   "display_name": "Python 3 (ipykernel)",
   "language": "python",
   "name": "python3"
  },
  "language_info": {
   "codemirror_mode": {
    "name": "ipython",
    "version": 3
   },
   "file_extension": ".py",
   "mimetype": "text/x-python",
   "name": "python",
   "nbconvert_exporter": "python",
   "pygments_lexer": "ipython3",
   "version": "3.13.5"
  }
 },
 "nbformat": 4,
 "nbformat_minor": 5
}
