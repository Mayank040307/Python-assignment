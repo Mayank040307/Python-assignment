{
 "cells": [
  {
   "cell_type": "markdown",
   "id": "7f031ae7-f89e-4e34-bfd0-f0aaba789ce9",
   "metadata": {},
   "source": [
    "ASSIGNMENT 2"
   ]
  },
  {
   "cell_type": "markdown",
   "id": "f8e2287d-441e-4ad8-a2eb-3c84f492e12e",
   "metadata": {},
   "source": [
    "1. str.capitalize() - First letter uppercase, rest lowercase"
   ]
  },
  {
   "cell_type": "code",
   "execution_count": 1,
   "id": "e238efeb-38ca-44f8-aeb5-399bd09e729d",
   "metadata": {},
   "outputs": [
    {
     "name": "stdout",
     "output_type": "stream",
     "text": [
      "Hello world\n"
     ]
    }
   ],
   "source": [
    "text = \"hello world\"\n",
    "STRING = text.capitalize()\n",
    "print(STRING)"
   ]
  },
  {
   "cell_type": "markdown",
   "id": "eb8716fb-72fa-4159-a391-2b3276877d70",
   "metadata": {},
   "source": [
    "2.str.casefold() - Aggressive lowercase (for caseless matching)"
   ]
  },
  {
   "cell_type": "code",
   "execution_count": 6,
   "id": "2ba41e0b-1f39-4c11-8d35-9afd510d9054",
   "metadata": {},
   "outputs": [
    {
     "name": "stdout",
     "output_type": "stream",
     "text": [
      "mayank\n"
     ]
    }
   ],
   "source": [
    "text = \"MAYANK\"\n",
    "result = text.casefold()\n",
    "print(result)"
   ]
  },
  {
   "cell_type": "markdown",
   "id": "d493d774-ebfb-4d3d-874d-492e207ba1ee",
   "metadata": {},
   "source": [
    "3.str.center(width[, fillchar]) - Center-align string"
   ]
  },
  {
   "cell_type": "code",
   "execution_count": 9,
   "id": "12503462-35f5-4a4d-a80a-8843345588b0",
   "metadata": {},
   "outputs": [
    {
     "name": "stdout",
     "output_type": "stream",
     "text": [
      "--MAYANK--\n"
     ]
    }
   ],
   "source": [
    "text = \"MAYANK\"\n",
    "result = text.center(10, \"-\")\n",
    "print(result)"
   ]
  },
  {
   "cell_type": "markdown",
   "id": "0ab437af-d3cd-44db-8443-62220f13c496",
   "metadata": {},
   "source": [
    "4.str.count(sub[, start[, end]]) -  Count occurrences"
   ]
  },
  {
   "cell_type": "code",
   "execution_count": 10,
   "id": "20a552c8-8874-4517-a3d0-b569bd9afc7d",
   "metadata": {},
   "outputs": [
    {
     "name": "stdout",
     "output_type": "stream",
     "text": [
      "5\n"
     ]
    }
   ],
   "source": [
    "text = \"SSSSIIIIIUUUUUUUU\"\n",
    "result = text.count(\"I\")\n",
    "print(result)"
   ]
  },
  {
   "cell_type": "markdown",
   "id": "53a7bc4c-14c0-413b-b678-fc4c3ea891de",
   "metadata": {},
   "source": [
    "5.str.encode(encoding=\"utf-8\", errors=\"strict\") - Encode to bytes"
   ]
  },
  {
   "cell_type": "code",
   "execution_count": 11,
   "id": "024e29c1-a1c0-42eb-9c24-f8d37b49e16c",
   "metadata": {},
   "outputs": [
    {
     "name": "stdout",
     "output_type": "stream",
     "text": [
      "b'caf\\xc3\\xa9'\n"
     ]
    }
   ],
   "source": [
    "text = \"café\"\n",
    "encoded_text = text.encode(encoding=\"utf-8\", errors=\"strict\")\n",
    "print(encoded_text)"
   ]
  },
  {
   "cell_type": "markdown",
   "id": "8ef31443-827b-40f4-bf41-ba7fcdb56b31",
   "metadata": {},
   "source": [
    "6.str.endswith(suffix[, start[, end]]) -  Check ending"
   ]
  },
  {
   "cell_type": "code",
   "execution_count": 12,
   "id": "3ab6415e-41f6-4f9f-ba96-e50757998085",
   "metadata": {},
   "outputs": [
    {
     "name": "stdout",
     "output_type": "stream",
     "text": [
      "True\n"
     ]
    }
   ],
   "source": [
    "filename = \"report.pdf\"\n",
    "result = filename.endswith(\".pdf\")\n",
    "print(result)"
   ]
  },
  {
   "cell_type": "markdown",
   "id": "6204de4f-ce64-4970-bd0e-74a43c57aa9b",
   "metadata": {},
   "source": [
    "7.str.expandtabs(tabsize=8) - Replace tabs with spaces"
   ]
  },
  {
   "cell_type": "code",
   "execution_count": 13,
   "id": "e3e6b5bd-0833-4d5c-ac16-949fcc75d4de",
   "metadata": {},
   "outputs": [
    {
     "name": "stdout",
     "output_type": "stream",
     "text": [
      "a   b   c\n"
     ]
    }
   ],
   "source": [
    "text = \"a\\tb\\tc\"\n",
    "result = text.expandtabs(4)\n",
    "print(result)"
   ]
  },
  {
   "cell_type": "markdown",
   "id": "9268542a-e0cd-42ca-9ca5-9a05a8a0cc8b",
   "metadata": {},
   "source": [
    "8.str.find(sub[, start[, end]]) - First index of substring, -1 if not found"
   ]
  },
  {
   "cell_type": "code",
   "execution_count": 3,
   "id": "eded030c-c0e8-4528-86b6-1d4f914521ff",
   "metadata": {},
   "outputs": [
    {
     "data": {
      "text/plain": [
       "2"
      ]
     },
     "execution_count": 3,
     "metadata": {},
     "output_type": "execute_result"
    }
   ],
   "source": [
    "\"hello\".find(\"l\")"
   ]
  },
  {
   "cell_type": "markdown",
   "id": "e2f7af20-7107-4e65-8845-5cf96d90dec5",
   "metadata": {},
   "source": [
    "9. str.format(*args, **kwargs) – Format string"
   ]
  },
  {
   "cell_type": "code",
   "execution_count": 4,
   "id": "a1badaae-672d-44bb-aa01-6648da36f3b6",
   "metadata": {},
   "outputs": [
    {
     "data": {
      "text/plain": [
       "'Hello World'"
      ]
     },
     "execution_count": 4,
     "metadata": {},
     "output_type": "execute_result"
    }
   ],
   "source": [
    "\"Hello {}\".format(\"World\") "
   ]
  },
  {
   "cell_type": "markdown",
   "id": "ef109544-689f-490d-96ca-999463b2bad3",
   "metadata": {},
   "source": [
    "10. str.format_map(mapping) – Format using dict"
   ]
  },
  {
   "cell_type": "code",
   "execution_count": 5,
   "id": "49b4b3dc-f6a0-4715-8bab-8614effbf677",
   "metadata": {},
   "outputs": [
    {
     "data": {
      "text/plain": [
       "'Alice'"
      ]
     },
     "execution_count": 5,
     "metadata": {},
     "output_type": "execute_result"
    }
   ],
   "source": [
    "\"{name}\".format_map({\"name\": \"Alice\"})"
   ]
  },
  {
   "cell_type": "markdown",
   "id": "828b76de-945e-45ec-a1dd-2e20b3c4b522",
   "metadata": {},
   "source": [
    "11. str.index(sub, start, end) – Like find(), but raises error if not found"
   ]
  },
  {
   "cell_type": "code",
   "execution_count": 6,
   "id": "e37a4d38-f982-460d-a105-e23130563dbc",
   "metadata": {},
   "outputs": [
    {
     "data": {
      "text/plain": [
       "1"
      ]
     },
     "execution_count": 6,
     "metadata": {},
     "output_type": "execute_result"
    }
   ],
   "source": [
    " \"hello\".index(\"e\") "
   ]
  },
  {
   "cell_type": "markdown",
   "id": "80615fa1-790f-45ec-8dbd-0c5c6baf3de6",
   "metadata": {},
   "source": [
    "12. str.isalnum() – Alphanumeric check"
   ]
  },
  {
   "cell_type": "code",
   "execution_count": 7,
   "id": "15b8000e-65f3-465e-9bb0-2c4ba5bdab2f",
   "metadata": {},
   "outputs": [
    {
     "data": {
      "text/plain": [
       "True"
      ]
     },
     "execution_count": 7,
     "metadata": {},
     "output_type": "execute_result"
    }
   ],
   "source": [
    "\"abc123\".isalnum()"
   ]
  },
  {
   "cell_type": "markdown",
   "id": "e484efbe-efcf-49a2-a506-04cbf234b4ca",
   "metadata": {},
   "source": [
    "13. str.isalpha() – Alphabetic check"
   ]
  },
  {
   "cell_type": "code",
   "execution_count": 8,
   "id": "6de8b9dc-925d-4b32-a0b5-4ee70a9e8a88",
   "metadata": {},
   "outputs": [
    {
     "data": {
      "text/plain": [
       "True"
      ]
     },
     "execution_count": 8,
     "metadata": {},
     "output_type": "execute_result"
    }
   ],
   "source": [
    "\"abc\".isalpha()"
   ]
  },
  {
   "cell_type": "markdown",
   "id": "05a14216-5ce2-4bac-acfa-8fc1a2f92009",
   "metadata": {},
   "source": [
    "14. str.isascii() – ASCII check"
   ]
  },
  {
   "cell_type": "code",
   "execution_count": 9,
   "id": "e21b406d-2651-42a5-8a24-3d4f0d117dcc",
   "metadata": {},
   "outputs": [
    {
     "data": {
      "text/plain": [
       "True"
      ]
     },
     "execution_count": 9,
     "metadata": {},
     "output_type": "execute_result"
    }
   ],
   "source": [
    " \"hello\".isascii() "
   ]
  },
  {
   "cell_type": "code",
   "execution_count": null,
   "id": "af986f4d-a80b-48c1-ae9a-76250c34adf1",
   "metadata": {},
   "outputs": [],
   "source": [
    "15. str.isdecimal() – Decimal digit check"
   ]
  },
  {
   "cell_type": "code",
   "execution_count": 10,
   "id": "b848ada1-8b5b-4683-bbc4-9583bd775537",
   "metadata": {},
   "outputs": [
    {
     "data": {
      "text/plain": [
       "True"
      ]
     },
     "execution_count": 10,
     "metadata": {},
     "output_type": "execute_result"
    }
   ],
   "source": [
    " \"123\".isdecimal()"
   ]
  },
  {
   "cell_type": "code",
   "execution_count": null,
   "id": "a1bc8617-dee8-4f7a-892e-23e04c35f443",
   "metadata": {},
   "outputs": [],
   "source": [
    "16. str.isdigit() – Digit check (includes other scripts)"
   ]
  },
  {
   "cell_type": "code",
   "execution_count": 11,
   "id": "e4211303-d525-4a05-a9cb-366f812457f3",
   "metadata": {},
   "outputs": [
    {
     "data": {
      "text/plain": [
       "True"
      ]
     },
     "execution_count": 11,
     "metadata": {},
     "output_type": "execute_result"
    }
   ],
   "source": [
    "\"²3\".isdigit()"
   ]
  },
  {
   "cell_type": "code",
   "execution_count": null,
   "id": "ca039f44-8006-46a6-a6f3-6993f3af74d1",
   "metadata": {},
   "outputs": [],
   "source": [
    "17. str.isidentifier() – Valid Python identifier?"
   ]
  },
  {
   "cell_type": "code",
   "execution_count": 12,
   "id": "666028f1-9c65-4339-934a-206c03c31694",
   "metadata": {},
   "outputs": [
    {
     "data": {
      "text/plain": [
       "True"
      ]
     },
     "execution_count": 12,
     "metadata": {},
     "output_type": "execute_result"
    }
   ],
   "source": [
    "\"my_var\".isidentifier()"
   ]
  },
  {
   "cell_type": "code",
   "execution_count": null,
   "id": "42bee55e-0390-4362-89ef-2a6a460c9276",
   "metadata": {},
   "outputs": [],
   "source": [
    "18. str.islower() – All letters lowercase?"
   ]
  },
  {
   "cell_type": "code",
   "execution_count": 13,
   "id": "26de7ca4-59c2-4572-9d08-483107665aee",
   "metadata": {},
   "outputs": [
    {
     "data": {
      "text/plain": [
       "True"
      ]
     },
     "execution_count": 13,
     "metadata": {},
     "output_type": "execute_result"
    }
   ],
   "source": [
    "\"hello\".islower()"
   ]
  },
  {
   "cell_type": "code",
   "execution_count": null,
   "id": "4d5d495f-cf4c-4596-8adb-6951b2cdcffb",
   "metadata": {},
   "outputs": [],
   "source": [
    "19. str.isnumeric() – Numeric check (includes fractions, superscripts)"
   ]
  },
  {
   "cell_type": "code",
   "execution_count": 14,
   "id": "6024f7cf-cc2c-47b4-bd6d-adf5de86fdc3",
   "metadata": {},
   "outputs": [
    {
     "data": {
      "text/plain": [
       "True"
      ]
     },
     "execution_count": 14,
     "metadata": {},
     "output_type": "execute_result"
    }
   ],
   "source": [
    " \"½\".isnumeric()"
   ]
  },
  {
   "cell_type": "code",
   "execution_count": null,
   "id": "b8c75808-5536-4298-8a33-8e1880f394d2",
   "metadata": {},
   "outputs": [],
   "source": [
    "20. str.isprintable() – All printable?"
   ]
  },
  {
   "cell_type": "code",
   "execution_count": 15,
   "id": "fe119eb1-0a97-482d-a246-e8174cb819a8",
   "metadata": {},
   "outputs": [
    {
     "data": {
      "text/plain": [
       "True"
      ]
     },
     "execution_count": 15,
     "metadata": {},
     "output_type": "execute_result"
    }
   ],
   "source": [
    " \"Hello!\".isprintable()"
   ]
  },
  {
   "cell_type": "code",
   "execution_count": null,
   "id": "e248cd25-c9b8-43ae-8f73-e2f8c700e543",
   "metadata": {},
   "outputs": [],
   "source": [
    "21. str.isspace() – All whitespace?"
   ]
  },
  {
   "cell_type": "code",
   "execution_count": 16,
   "id": "ca015f05-7391-48e9-aaf4-645f18815cf9",
   "metadata": {},
   "outputs": [
    {
     "data": {
      "text/plain": [
       "True"
      ]
     },
     "execution_count": 16,
     "metadata": {},
     "output_type": "execute_result"
    }
   ],
   "source": [
    " \"   \".isspace()"
   ]
  },
  {
   "cell_type": "code",
   "execution_count": null,
   "id": "7f4a78d0-94ae-4897-8977-64478d0be5f0",
   "metadata": {},
   "outputs": [],
   "source": [
    "22. str.istitle() – Title case?"
   ]
  },
  {
   "cell_type": "code",
   "execution_count": 17,
   "id": "2bba2b40-110b-4201-92ef-332267919f15",
   "metadata": {},
   "outputs": [
    {
     "data": {
      "text/plain": [
       "True"
      ]
     },
     "execution_count": 17,
     "metadata": {},
     "output_type": "execute_result"
    }
   ],
   "source": [
    " \"Hello World\".istitle() "
   ]
  },
  {
   "cell_type": "code",
   "execution_count": null,
   "id": "53b19651-7d35-4dac-a0f6-308f50352a39",
   "metadata": {},
   "outputs": [],
   "source": [
    "23. str.isupper() – All uppercase?"
   ]
  },
  {
   "cell_type": "code",
   "execution_count": 18,
   "id": "86557a90-0ee4-4486-8dc9-e1ee3cc53b07",
   "metadata": {},
   "outputs": [
    {
     "data": {
      "text/plain": [
       "True"
      ]
     },
     "execution_count": 18,
     "metadata": {},
     "output_type": "execute_result"
    }
   ],
   "source": [
    " \"HELLO\".isupper()"
   ]
  },
  {
   "cell_type": "code",
   "execution_count": null,
   "id": "72136920-6b3d-4140-a838-799a23c6cf9a",
   "metadata": {},
   "outputs": [],
   "source": [
    "24. str.join(iterable) – Join iterable with string as separator"
   ]
  },
  {
   "cell_type": "code",
   "execution_count": 19,
   "id": "2fef5f55-fa31-4a6e-9723-a1aca9572652",
   "metadata": {},
   "outputs": [
    {
     "data": {
      "text/plain": [
       "'a-b-c'"
      ]
     },
     "execution_count": 19,
     "metadata": {},
     "output_type": "execute_result"
    }
   ],
   "source": [
    " \"-\".join([\"a\", \"b\", \"c\"]) "
   ]
  },
  {
   "cell_type": "code",
   "execution_count": null,
   "id": "a94fbbdd-31d0-4c6a-b21b-4002a1fd9b41",
   "metadata": {},
   "outputs": [],
   "source": [
    "25. str.ljust(width, fillchar) – Left-justify"
   ]
  },
  {
   "cell_type": "code",
   "execution_count": 20,
   "id": "a6adcba5-42cd-4e9f-9a5c-434a75049252",
   "metadata": {},
   "outputs": [
    {
     "data": {
      "text/plain": [
       "'hi...'"
      ]
     },
     "execution_count": 20,
     "metadata": {},
     "output_type": "execute_result"
    }
   ],
   "source": [
    " \"hi\".ljust(5, \".\")"
   ]
  },
  {
   "cell_type": "code",
   "execution_count": null,
   "id": "29126279-080b-4fdb-9dbc-e946105e0870",
   "metadata": {},
   "outputs": [],
   "source": [
    "26. str.lower() – Convert to lowercase"
   ]
  },
  {
   "cell_type": "code",
   "execution_count": 21,
   "id": "b9df114c-9c03-4061-a1e5-6b8c94646606",
   "metadata": {},
   "outputs": [
    {
     "data": {
      "text/plain": [
       "'hello'"
      ]
     },
     "execution_count": 21,
     "metadata": {},
     "output_type": "execute_result"
    }
   ],
   "source": [
    " \"HELLO\".lower()"
   ]
  },
  {
   "cell_type": "code",
   "execution_count": null,
   "id": "f348cb25-bc99-4b96-bffc-2108745249c5",
   "metadata": {},
   "outputs": [],
   "source": [
    "27. str.lstrip(chars) – Remove leading chars"
   ]
  },
  {
   "cell_type": "code",
   "execution_count": 22,
   "id": "47019560-599a-4804-bc86-78bf175b6e87",
   "metadata": {},
   "outputs": [
    {
     "data": {
      "text/plain": [
       "'hello'"
      ]
     },
     "execution_count": 22,
     "metadata": {},
     "output_type": "execute_result"
    }
   ],
   "source": [
    " \"  hello\".lstrip()"
   ]
  },
  {
   "cell_type": "code",
   "execution_count": null,
   "id": "7a7f0808-24a4-463e-af6b-a730dda627d9",
   "metadata": {},
   "outputs": [],
   "source": [
    "28. str.maketrans(x, y, z) – Translation table"
   ]
  },
  {
   "cell_type": "code",
   "execution_count": null,
   "id": "20a03a83-034b-4cb0-ba1a-bb125ed34a41",
   "metadata": {},
   "outputs": [],
   "source": [
    "table = str.maketrans(\"abc\", \"123\")\n",
    "    \"abc\".translate(table)"
   ]
  },
  {
   "cell_type": "code",
   "execution_count": null,
   "id": "e1c336f5-b4a3-4ef0-aa4d-74bdb24c9b30",
   "metadata": {},
   "outputs": [],
   "source": [
    "29. str.partition(sep) – Split into 3 parts (before, sep, after)"
   ]
  },
  {
   "cell_type": "code",
   "execution_count": 27,
   "id": "7e3d3852-ba66-45c9-b1b6-acfa137f2c2b",
   "metadata": {},
   "outputs": [
    {
     "data": {
      "text/plain": [
       "('apple', '-', 'orange')"
      ]
     },
     "execution_count": 27,
     "metadata": {},
     "output_type": "execute_result"
    }
   ],
   "source": [
    "\"apple-orange\".partition(\"-\")"
   ]
  },
  {
   "cell_type": "code",
   "execution_count": null,
   "id": "e8a08377-98ff-459c-8f16-bc9ae35fc6ef",
   "metadata": {},
   "outputs": [],
   "source": [
    "30. str.removeprefix(prefix) – Remove prefix if present"
   ]
  },
  {
   "cell_type": "code",
   "execution_count": 28,
   "id": "856b02e8-825e-4873-82c1-808429901e2d",
   "metadata": {},
   "outputs": [
    {
     "data": {
      "text/plain": [
       "'happy'"
      ]
     },
     "execution_count": 28,
     "metadata": {},
     "output_type": "execute_result"
    }
   ],
   "source": [
    " \"unhappy\".removeprefix(\"un\")"
   ]
  },
  {
   "cell_type": "code",
   "execution_count": null,
   "id": "c0c8853c-9b34-41fa-9a6d-e76628780e65",
   "metadata": {},
   "outputs": [],
   "source": [
    "31. str.removesuffix(suffix) – Remove suffix if present"
   ]
  },
  {
   "cell_type": "code",
   "execution_count": 29,
   "id": "ba85a9df-a14a-4c2c-a998-2f317c14034e",
   "metadata": {},
   "outputs": [
    {
     "data": {
      "text/plain": [
       "'filename'"
      ]
     },
     "execution_count": 29,
     "metadata": {},
     "output_type": "execute_result"
    }
   ],
   "source": [
    " \"filename.txt\".removesuffix(\".txt\")"
   ]
  },
  {
   "cell_type": "code",
   "execution_count": null,
   "id": "ce9889b8-0300-4b14-bb20-b58b23a92f04",
   "metadata": {},
   "outputs": [],
   "source": [
    "32. str.replace(old, new, count) – Replace substring"
   ]
  },
  {
   "cell_type": "code",
   "execution_count": 30,
   "id": "69c41ad3-9e66-4e3d-a720-75e2e88c372d",
   "metadata": {},
   "outputs": [
    {
     "data": {
      "text/plain": [
       "'hello Python'"
      ]
     },
     "execution_count": 30,
     "metadata": {},
     "output_type": "execute_result"
    }
   ],
   "source": [
    " \"hello world\".replace(\"world\", \"Python\") "
   ]
  },
  {
   "cell_type": "code",
   "execution_count": null,
   "id": "0543f75f-e193-431a-8029-cf3564ce1c1e",
   "metadata": {},
   "outputs": [],
   "source": [
    "33. str.rfind(sub, start, end) – Last index of substring, -1 if not found"
   ]
  },
  {
   "cell_type": "code",
   "execution_count": 31,
   "id": "270c125f-00aa-4148-b4a2-3b145d9d5800",
   "metadata": {},
   "outputs": [
    {
     "data": {
      "text/plain": [
       "3"
      ]
     },
     "execution_count": 31,
     "metadata": {},
     "output_type": "execute_result"
    }
   ],
   "source": [
    "\"hello\".rfind(\"l\")"
   ]
  },
  {
   "cell_type": "code",
   "execution_count": null,
   "id": "65fab19c-efdf-4fac-b70a-6942b8c457c8",
   "metadata": {},
   "outputs": [],
   "source": [
    "34. str.rindex(sub, start, end) – Like rfind(), but raises error if not found"
   ]
  },
  {
   "cell_type": "code",
   "execution_count": 32,
   "id": "dae26be5-5ef5-464f-bd12-6a41532d1b74",
   "metadata": {},
   "outputs": [
    {
     "data": {
      "text/plain": [
       "3"
      ]
     },
     "execution_count": 32,
     "metadata": {},
     "output_type": "execute_result"
    }
   ],
   "source": [
    "\"hello\".rindex(\"l\")"
   ]
  },
  {
   "cell_type": "code",
   "execution_count": null,
   "id": "7dd8f050-bb45-4e37-86a3-36c291965d0b",
   "metadata": {},
   "outputs": [],
   "source": [
    "35. str.rjust(width, fillchar) – Right-justify"
   ]
  },
  {
   "cell_type": "code",
   "execution_count": 33,
   "id": "19aee286-ad3b-4406-a312-91afb7c02037",
   "metadata": {},
   "outputs": [
    {
     "data": {
      "text/plain": [
       "'...hi'"
      ]
     },
     "execution_count": 33,
     "metadata": {},
     "output_type": "execute_result"
    }
   ],
   "source": [
    " \"hi\".rjust(5, \".\")"
   ]
  },
  {
   "cell_type": "code",
   "execution_count": null,
   "id": "11626a9d-68c7-495f-8ddf-73f15bf32fff",
   "metadata": {},
   "outputs": [],
   "source": [
    "36. str.rsplit(sep, maxsplit) – Split from right"
   ]
  },
  {
   "cell_type": "code",
   "execution_count": 34,
   "id": "1b386d75-2e7e-4775-9f65-ba53fb424b18",
   "metadata": {},
   "outputs": [
    {
     "data": {
      "text/plain": [
       "['a,b', 'c']"
      ]
     },
     "execution_count": 34,
     "metadata": {},
     "output_type": "execute_result"
    }
   ],
   "source": [
    " \"a,b,c\".rsplit(\",\", 1)"
   ]
  },
  {
   "cell_type": "code",
   "execution_count": null,
   "id": "26bc00f1-0167-4b20-81e4-6ef22f4d3115",
   "metadata": {},
   "outputs": [],
   "source": [
    "37. str.rstrip(chars) – Remove trailing chars"
   ]
  },
  {
   "cell_type": "code",
   "execution_count": 35,
   "id": "8e16f33f-8098-4b77-a092-f4eabb3accc4",
   "metadata": {},
   "outputs": [
    {
     "data": {
      "text/plain": [
       "'hello'"
      ]
     },
     "execution_count": 35,
     "metadata": {},
     "output_type": "execute_result"
    }
   ],
   "source": [
    " \"hello   \".rstrip()"
   ]
  },
  {
   "cell_type": "code",
   "execution_count": null,
   "id": "2d4097fc-7c68-4659-9b42-51e262da6a6a",
   "metadata": {},
   "outputs": [],
   "source": [
    "38. str.split(sep, maxsplit) – Split into list"
   ]
  },
  {
   "cell_type": "code",
   "execution_count": 36,
   "id": "46a47740-1b09-4d6e-a90f-bbfe5502e969",
   "metadata": {},
   "outputs": [
    {
     "data": {
      "text/plain": [
       "['a', 'b', 'c']"
      ]
     },
     "execution_count": 36,
     "metadata": {},
     "output_type": "execute_result"
    }
   ],
   "source": [
    " \"a b c\".split()"
   ]
  },
  {
   "cell_type": "code",
   "execution_count": null,
   "id": "687dcecb-f32c-4ad8-ad15-bc5e8160808d",
   "metadata": {},
   "outputs": [],
   "source": [
    "39. str.splitlines(keepends) – Split at line breaks"
   ]
  },
  {
   "cell_type": "code",
   "execution_count": 37,
   "id": "b1527021-cdd5-4f5e-aa3a-f1e21cf2c1b0",
   "metadata": {},
   "outputs": [
    {
     "data": {
      "text/plain": [
       "['a', 'b']"
      ]
     },
     "execution_count": 37,
     "metadata": {},
     "output_type": "execute_result"
    }
   ],
   "source": [
    "\"a\\nb\".splitlines() "
   ]
  },
  {
   "cell_type": "code",
   "execution_count": null,
   "id": "3de68570-8e0d-4f50-92af-ad20c752e41b",
   "metadata": {},
   "outputs": [],
   "source": [
    "40. str.startswith(prefix, start, end) – Check beginning"
   ]
  },
  {
   "cell_type": "code",
   "execution_count": 38,
   "id": "809d5ebf-5642-4dd7-ad02-ac08c9bf39a6",
   "metadata": {},
   "outputs": [
    {
     "data": {
      "text/plain": [
       "True"
      ]
     },
     "execution_count": 38,
     "metadata": {},
     "output_type": "execute_result"
    }
   ],
   "source": [
    " \"hello.py\".startswith(\"he\")"
   ]
  },
  {
   "cell_type": "code",
   "execution_count": null,
   "id": "6fd13e32-dc78-4efc-8fb0-d86556be709a",
   "metadata": {},
   "outputs": [],
   "source": [
    "41. str.strip(chars) – Remove leading & trailing chars"
   ]
  },
  {
   "cell_type": "code",
   "execution_count": 39,
   "id": "bd102be3-afd1-454c-b061-8c8954729b5a",
   "metadata": {},
   "outputs": [
    {
     "data": {
      "text/plain": [
       "'hi'"
      ]
     },
     "execution_count": 39,
     "metadata": {},
     "output_type": "execute_result"
    }
   ],
   "source": [
    " \"  hi  \".strip()"
   ]
  },
  {
   "cell_type": "code",
   "execution_count": null,
   "id": "a86873c5-bb30-434a-a870-43d0d881c9af",
   "metadata": {},
   "outputs": [],
   "source": [
    "42. str.swapcase() – Swap upper/lower case"
   ]
  },
  {
   "cell_type": "code",
   "execution_count": 40,
   "id": "0bf8119a-4425-4bb3-86c3-c234355cf082",
   "metadata": {},
   "outputs": [
    {
     "data": {
      "text/plain": [
       "'hELLO'"
      ]
     },
     "execution_count": 40,
     "metadata": {},
     "output_type": "execute_result"
    }
   ],
   "source": [
    " \"Hello\".swapcase() "
   ]
  },
  {
   "cell_type": "code",
   "execution_count": null,
   "id": "bd476b52-2902-4026-8806-6834a009bbb1",
   "metadata": {},
   "outputs": [],
   "source": [
    "43. str.title() – Title case"
   ]
  },
  {
   "cell_type": "code",
   "execution_count": 41,
   "id": "6d7d7795-6539-4f6d-b5d5-af897de3c4e5",
   "metadata": {},
   "outputs": [
    {
     "data": {
      "text/plain": [
       "'Hello World'"
      ]
     },
     "execution_count": 41,
     "metadata": {},
     "output_type": "execute_result"
    }
   ],
   "source": [
    "\"hello world\".title()"
   ]
  },
  {
   "cell_type": "code",
   "execution_count": null,
   "id": "67ac336c-842b-4e99-9597-20d9a8e8b225",
   "metadata": {},
   "outputs": [],
   "source": [
    "44. str.translate(table) – Replace chars using table"
   ]
  },
  {
   "cell_type": "code",
   "execution_count": null,
   "id": "f2053ad5-d0b8-4d53-90de-ccfca6257a23",
   "metadata": {},
   "outputs": [],
   "source": [
    "  table = str.maketrans(\"ae\", \"12\")\n",
    "    \"apple\".translate(table)"
   ]
  },
  {
   "cell_type": "code",
   "execution_count": null,
   "id": "404213a4-1fad-4464-b49b-85c45cb3ad25",
   "metadata": {},
   "outputs": [],
   "source": [
    "45. str.upper() – Convert to uppercase"
   ]
  },
  {
   "cell_type": "code",
   "execution_count": 43,
   "id": "6102a826-5656-43bb-bfd2-0bea2bee0260",
   "metadata": {},
   "outputs": [
    {
     "data": {
      "text/plain": [
       "'HELLO'"
      ]
     },
     "execution_count": 43,
     "metadata": {},
     "output_type": "execute_result"
    }
   ],
   "source": [
    " \"hello\".upper()"
   ]
  },
  {
   "cell_type": "code",
   "execution_count": null,
   "id": "0d1d124e-64ca-4e38-9589-b60fb85f12fa",
   "metadata": {},
   "outputs": [],
   "source": [
    "46. str.zfill(width) – Pad with zeros on the left\n"
   ]
  },
  {
   "cell_type": "code",
   "execution_count": 44,
   "id": "b6e92534-341c-4c8c-b924-7c65eafae617",
   "metadata": {},
   "outputs": [
    {
     "data": {
      "text/plain": [
       "'00042'"
      ]
     },
     "execution_count": 44,
     "metadata": {},
     "output_type": "execute_result"
    }
   ],
   "source": [
    " \"42\".zfill(5)"
   ]
  }
 ],
 "metadata": {
  "kernelspec": {
   "display_name": "Python 3 (ipykernel)",
   "language": "python",
   "name": "python3"
  },
  "language_info": {
   "codemirror_mode": {
    "name": "ipython",
    "version": 3
   },
   "file_extension": ".py",
   "mimetype": "text/x-python",
   "name": "python",
   "nbconvert_exporter": "python",
   "pygments_lexer": "ipython3",
   "version": "3.13.5"
  }
 },
 "nbformat": 4,
 "nbformat_minor": 5
}
