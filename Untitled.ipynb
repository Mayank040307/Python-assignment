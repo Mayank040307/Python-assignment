{
 "cells": [
  {
   "cell_type": "markdown",
   "id": "9d65fe7e-ca95-4bfa-b00c-cb669f1c3d42",
   "metadata": {},
   "source": [
    "Assignment"
   ]
  },
  {
   "cell_type": "markdown",
   "id": "a1c8e441-7640-4e4f-a732-8c4ecb1c8e19",
   "metadata": {},
   "source": [
    "1.  * → Expression \n",
    "\n",
    "    'hello' → Value \n",
    "\n",
    "    -87.8 → Value \n",
    "\n",
    "    - → Expression \n",
    "\n",
    "    / → Expression \n",
    "\n",
    "    + → Expression \n",
    "\n",
    "    6 → Value "
   ]
  },
  {
   "cell_type": "markdown",
   "id": "c0c67e45-2b68-48ce-862f-5644b0f1b6b7",
   "metadata": {},
   "source": [
    "2.  Variable - A variable is like a storage container where you can store information .\n",
    "\n",
    "    String - String is any text, word, sentence, or group of letters/numbers written inside quotes ('' or \"\") ."
   ]
  },
  {
   "cell_type": "markdown",
   "id": "a12774a6-db06-4be5-8dc7-96e5fcaca7ed",
   "metadata": {},
   "source": [
    "3. Three different datatypes-\n",
    "   1. int()- It contains whole numbers.\n",
    "   2. char()- It contains alphabet.\n",
    "   3. boolean()- Tells true or false"
   ]
  },
  {
   "cell_type": "markdown",
   "id": "c5955018-104f-4aa6-863c-cfa4988ea11f",
   "metadata": {},
   "source": [
    "4. An expresssion is basically made up of-\n",
    "   1. values (numbers or strings)\n",
    "   2. variables\n",
    "   3. operators(+,-,*,/)\n",
    "\n",
    "   = All expressions produce a value. They are like questions or formulas that we have to solve to find the answers."
   ]
  },
  {
   "cell_type": "markdown",
   "id": "7b846468-da1f-46de-b249-6a4e421943f7",
   "metadata": {},
   "source": [
    "5.  Statement - A statement is a complete instruction that Python can run.\n",
    "    In question the spam=10 is a statement\n",
    "\n",
    "    Expression - An expression is something that produces a value.\n",
    "    It basically made up of- Values,variable,operators.  "
   ]
  },
  {
   "cell_type": "code",
   "execution_count": 1,
   "id": "0f209fcf-833a-4531-9062-1a8de079d643",
   "metadata": {},
   "outputs": [
    {
     "data": {
      "text/plain": [
       "23"
      ]
     },
     "execution_count": 1,
     "metadata": {},
     "output_type": "execute_result"
    }
   ],
   "source": [
    "6. bacon=22\n",
    "   bacon+1\n",
    "   But the variable bacon contain is 22 (bacon = 22)"
   ]
  },
  {
   "cell_type": "markdown",
   "id": "afc76323-d0af-4d1e-9f74-20258fdd3a96",
   "metadata": {},
   "source": [
    "7. The values of boht become same - \"spamspamspam\"\n",
    "   In first it add using the (+) operator\n",
    "   AND\n",
    "   In second the code is for repeating the spam three times (*3)"
   ]
  },
  {
   "cell_type": "markdown",
   "id": "49a5ae9f-2207-4bb0-a238-dbdd0995f654",
   "metadata": {},
   "source": [
    "8.  eggs is a valid variable name because:\n",
    "    It starts with a letter\n",
    "    It follows Python’s rules for variable names\n",
    "\n",
    "    WHILE\n",
    "\n",
    "    100 is NOT a valid variable name because It starts with a number, which is not allowed in Python's rule for variable names\n",
    "\n",
    " "
   ]
  },
  {
   "cell_type": "markdown",
   "id": "f6f24e8b-1e92-47fb-a107-a216861456a3",
   "metadata": {},
   "source": [
    "9.  Function used to get - integer - int() – Converts a value to an integer.\n",
    "                           float - float()- Converts a value to a decimal number.\n",
    "                           string - str() – Converts a value to a string."
   ]
  },
  {
   "cell_type": "markdown",
   "id": "b693eccc-e0bc-4cb9-b141-d2af3aed8424",
   "metadata": {},
   "source": [
    "10. 'i have eaten'+99+'burritos'\n",
    "     This code cause error because we add a string ('i have eaten') to an integer (99)\n",
    "     We cannot directly add a string and a number"
   ]
  },
  {
   "cell_type": "markdown",
   "id": "aba589e5-afe0-47fc-a58f-56c786c3fae1",
   "metadata": {},
   "source": [
    " We can fix it by-  converting the number to a string using str()"
   ]
  },
  {
   "cell_type": "code",
   "execution_count": 2,
   "id": "cd0f8861-051f-4e26-9eec-ae07e36c17b2",
   "metadata": {},
   "outputs": [
    {
     "data": {
      "text/plain": [
       "'I have eaten 99 burritos.'"
      ]
     },
     "execution_count": 2,
     "metadata": {},
     "output_type": "execute_result"
    }
   ],
   "source": [
    "'I have eaten ' + str(99) + ' burritos.'"
   ]
  },
  {
   "cell_type": "code",
   "execution_count": null,
   "id": "f4c9027c-20b5-4e05-8fc6-3a131c735639",
   "metadata": {},
   "outputs": [],
   "source": []
  }
 ],
 "metadata": {
  "kernelspec": {
   "display_name": "Python 3 (ipykernel)",
   "language": "python",
   "name": "python3"
  },
  "language_info": {
   "codemirror_mode": {
    "name": "ipython",
    "version": 3
   },
   "file_extension": ".py",
   "mimetype": "text/x-python",
   "name": "python",
   "nbconvert_exporter": "python",
   "pygments_lexer": "ipython3",
   "version": "3.13.5"
  }
 },
 "nbformat": 4,
 "nbformat_minor": 5
}
